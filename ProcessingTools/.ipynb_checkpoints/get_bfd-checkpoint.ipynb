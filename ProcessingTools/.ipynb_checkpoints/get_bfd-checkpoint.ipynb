{
 "cells": [
  {
   "cell_type": "code",
   "execution_count": null,
   "metadata": {},
   "outputs": [],
   "source": [
    "#Run this notebook to determine the diameter of the bright field disk in your 4DSTEM data-set \n",
    "#prior to running the automatic processing script\n"
   ]
  },
  {
   "cell_type": "code",
   "execution_count": null,
   "metadata": {},
   "outputs": [],
   "source": [
    "import numpy as np\n",
    "import matplotlib.pyplot as plt\n",
    "from matplotlib.patches import Circle\n",
    "import h5py\n",
    "from scipy.ndimage.filters import gaussian_filter\n",
    "import hyperspy.api as hs\n",
    "\n",
    "import py4DSTEM\n",
    "from py4DSTEM.process.calibration import get_probe_size\n",
    "from py4DSTEM.process.dpc import get_CoM_images, get_rotation_and_flip, get_phase_from_CoM\n",
    "from py4DSTEM.process.dpc import get_wavenumber, get_interaction_constant"
   ]
  },
  {
   "cell_type": "code",
   "execution_count": null,
   "metadata": {},
   "outputs": [],
   "source": [
    "# First load the data\n",
    "# file path\n",
    "fp =  r\"/dls/e02/data/2019/mg22549-6/processing/Merlin/Merlin/20190808 145141\"\n",
    "# file name\n",
    "fn =r\"/MoS2 700 20cm 20M.hdf5\"\n",
    "# load data lazily \n",
    "d = hs.load(fp + fn, lazy = True)\n",
    "dc = py4DSTEM.file.datastructure.DataCube(d.data)"
   ]
  },
  {
   "cell_type": "code",
   "execution_count": null,
   "metadata": {},
   "outputs": [],
   "source": [
    "# Get PACBED\n",
    "# to make visualisation easier when we plot we raise the PACBED to a power\n",
    "power = 0.1\n",
    "# calculate PACBED using every 10th diffraction pattern\n",
    "PACBED = np.average(dc.data[::10, ::10, :, :],axis=(0,1))\n",
    "# plot PACBED\n",
    "fig,ax = plt.subplots(figsize=(8,8,))\n",
    "ax.matshow(PACBED**power)\n",
    "plt.show()"
   ]
  },
  {
   "cell_type": "code",
   "execution_count": null,
   "metadata": {},
   "outputs": [],
   "source": [
    "#Set the upper and lower threshold for determining the BFD diameter. \n",
    "#Adjust until you have a good fit to the PACBED then user these numbers in the automatic processing txt file\n",
    "thresh_lower = 0.01\n",
    "thresh_upper =0.05\n",
    "#numbe of itterations\n",
    "N = 100\n",
    "\n",
    "r,x0,y0 = get_probe_size(PACBED, thresh_lower=thresh_lower, thresh_upper=thresh_upper, N=N)\n",
    "\n",
    "# plot the PACBED and the fit\n",
    "fig,ax = plt.subplots(figsize=(8,8))\n",
    "ax.matshow(PACBED**power)\n",
    "ax.scatter(y0,x0,color='r',s=10)\n",
    "circle = Circle((y0,x0),r,fill=False,edgecolor='r',linewidth=1)\n",
    "ax.add_patch(circle)\n",
    "plt.show()"
   ]
  }
 ],
 "metadata": {
  "kernelspec": {
   "display_name": "Python 3",
   "language": "python",
   "name": "python3"
  },
  "language_info": {
   "codemirror_mode": {
    "name": "ipython",
    "version": 3
   },
   "file_extension": ".py",
   "mimetype": "text/x-python",
   "name": "python",
   "nbconvert_exporter": "python",
   "pygments_lexer": "ipython3",
   "version": "3.6.8"
  }
 },
 "nbformat": 4,
 "nbformat_minor": 2
}
