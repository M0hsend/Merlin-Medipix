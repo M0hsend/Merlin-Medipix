{
 "cells": [
  {
   "cell_type": "markdown",
   "id": "b365fe26-c64d-43da-ae58-f1d880152db5",
   "metadata": {},
   "source": [
    "## Widget to convert raw MIB files into HDF5 files\n",
    "The python script, 'MIB_convert.py', is necessary to use this."
   ]
  },
  {
   "cell_type": "code",
   "execution_count": 2,
   "id": "2b52b84d-56c9-4bc0-bfc0-604d5684b984",
   "metadata": {
    "editable": true,
    "slideshow": {
     "slide_type": ""
    },
    "tags": []
   },
   "outputs": [
    {
     "name": "stderr",
     "output_type": "stream",
     "text": [
      "2024-08-06 08:53:42,549    2475949 MainProcess  MainThread                     DEBUG    /dls_sw/apps/python/miniforge/4.10.0-0/envs/epsic3.10/lib/python3.10/site-packages/matplotlib/pyplot.py:414 Loaded backend module://ipympl.backend_nbagg version unknown.\n"
     ]
    },
    {
     "name": "stdout",
     "output_type": "stream",
     "text": [
      "*********************************************************************************\n",
      "Make sure that <Submit checkbox> is unchecked before changing any other variables\n",
      "*********************************************************************************\n"
     ]
    },
    {
     "data": {
      "application/vnd.jupyter.widget-view+json": {
       "model_id": "35b9fc2ab0c3440aaf00b371f521bcd6",
       "version_major": 2,
       "version_minor": 0
      },
      "text/plain": [
       "interactive(children=(Text(value='', description='Year:', style=TextStyle(description_width='initial')), Text(…"
      ]
     },
     "metadata": {},
     "output_type": "display_data"
    },
    {
     "data": {
      "application/vnd.jupyter.widget-view+json": {
       "model_id": "7b396c1fc2da4e58be7a42840b7741cc",
       "version_major": 2,
       "version_minor": 0
      },
      "text/plain": [
       "interactive(children=(Checkbox(value=False, description='Show the metadata of each MIB file', style=CheckboxSt…"
      ]
     },
     "metadata": {},
     "output_type": "display_data"
    },
    {
     "data": {
      "application/vnd.jupyter.widget-view+json": {
       "model_id": "ca58c54d9b4346ac90ce69d3e7ed9854",
       "version_major": 2,
       "version_minor": 0
      },
      "text/plain": [
       "interactive(children=(Checkbox(value=False, description='No reshaping', style=CheckboxStyle(description_width=…"
      ]
     },
     "metadata": {},
     "output_type": "display_data"
    },
    {
     "data": {
      "application/vnd.jupyter.widget-view+json": {
       "model_id": "a7be737e3b884b158f929bb944f0ad94",
       "version_major": 2,
       "version_minor": 0
      },
      "text/plain": [
       "interactive(children=(Checkbox(value=False, description='Submit a slurm job', style=CheckboxStyle(description_…"
      ]
     },
     "metadata": {},
     "output_type": "display_data"
    }
   ],
   "source": [
    "%matplotlib widget\n",
    "import sys\n",
    "sys.path.append('/dls_sw/e02/software/MIB_convert_widget_beta/beta_ver2/scripts')\n",
    "from MIB_convert import *\n",
    "\n",
    "\"\"\"\n",
    "year:\n",
    "    year of the session, e.g., 202X\n",
    "session:\n",
    "    session referenc e.g., mgXXXXX-X\n",
    "All MIB files in 'Merlin' folder:\n",
    "    if checked and no subfolder name is specified, all MIB files in 'Merlin' folder will be converted\n",
    "subfolder:\n",
    "    subfolder name, it has a higher priority than the widget above\n",
    "Show the path of each MIB file:\n",
    "    if checked, the paths of the MIB files that will be converted are shown\n",
    "No reshaping:\n",
    "    if checked, the scan region will not be reshaped into 2D scan dimensions\n",
    "Use Fly-back:\n",
    "    if checked, the scan region will be completely recovered.\n",
    "Known_shape:\n",
    "    if checked, the scan region will be reshaped as you want (if possible)\n",
    "Scan_X:\n",
    "    x-axis dimension of the scan region for the 'Known_shape' option\n",
    "Scan_Y:\n",
    "    y-axis dimension of the scan region for the 'Known_shape' option\n",
    "ADF:\n",
    "    currently not available\n",
    "iBF:\n",
    "    if checked, the integrated bright-field image will be saved as a PNG file\n",
    "DPC:\n",
    "    currently not available\n",
    "Bin_nav:\n",
    "    rebin the data for the scan shape and save it as a HSPY file\n",
    "Bin_sig:\n",
    "    rebin the data for the diffraction shape and save it as a HSPY file\n",
    "Create slurm batch file:\n",
    "    if checked, the slurm batch file will be created in the save directory\n",
    "Create conversion info file:\n",
    "    if checked, the information file for the MIB conversion will be created in the save directory\n",
    "Create a ptychography subfolder:\n",
    "    if checked, the json file for the ptyrex reconstruction will be created in the save directory\n",
    "Enter config name (optional):\n",
    "    PtyREX recontruction name\n",
    "Enter template config path (optional):\n",
    "    PtyREX template json file path you want to use\n",
    "Select the cluster node (cs04r recommended):\n",
    "    select the cluster node to use. 'cs05r' is the GPU cluster node, so please do not use it unnecessarily.\n",
    "\"\"\"\n",
    "\n",
    "convert = convert_info_widget()\n",
    "# "
   ]
  },
  {
   "cell_type": "markdown",
   "id": "f71a8150-b0ad-45fc-ab4b-fe97cf2bcaa6",
   "metadata": {},
   "source": [
    "## Widget to see the metadata or to generate the PtyREX JSON files of previously converted data\n",
    "The python script, 'MIB_convert.py', is necessary to use this."
   ]
  },
  {
   "cell_type": "code",
   "execution_count": null,
   "id": "b27fadb9-6150-4181-afcd-ab1b92eeb06f",
   "metadata": {
    "editable": true,
    "slideshow": {
     "slide_type": ""
    },
    "tags": []
   },
   "outputs": [],
   "source": [
    "%matplotlib widget\n",
    "import sys\n",
    "sys.path.append('/dls/science/groups/e02/Ryu/epsic_code/MIB_convert/test/scripts')\n",
    "from MIB_convert import *\n",
    "\n",
    "\"\"\"\n",
    "year:\n",
    "    year of the session, e.g., 202X\n",
    "session:\n",
    "    session reference, e.g., mgXXXXX-X\n",
    "All MIB files in 'Merlin' folder:\n",
    "    if checked and no subfolder name is specified, all MIB files in 'Merlin' folder will be converted\n",
    "subfolder:\n",
    "    subfolder name, it has a higher priority than the widget above\n",
    "Show the metadata of converted data:\n",
    "    if checked, the metadata of the converted data will be shown\n",
    "Metadata key to sort (optional):\n",
    "    the metadata will be sorted by the values of the metadata key\n",
    "Metadata key to search (optional):\n",
    "    only the metadata matched with the value of the metadata key will be shown\n",
    "Value to search (optional, but necessary for 'Metadata key to search'):\n",
    "    only the metadata matched with the value of the metadata key will be shown   \n",
    "Create a ptychography subfolder:\n",
    "    if checked, the json file for the ptyrex reconstruction will be created in the save directory\n",
    "Enter config name (optional):\n",
    "    PtyREX recontruction name\n",
    "Enter template config path (optional):\n",
    "    PtyREX template json file path you want to use\n",
    "\"\"\"\n",
    "\n",
    "ptyrex_meta = convert_info_widget(only_ptyrex=True)"
   ]
  }
 ],
 "metadata": {
  "kernelspec": {
   "display_name": "Python 3.10 - EPSIC [DLS Conda]",
   "language": "python",
   "name": "conda-env-DLS_Conda-epsic3.10-kernel.json"
  },
  "language_info": {
   "codemirror_mode": {
    "name": "ipython",
    "version": 3
   },
   "file_extension": ".py",
   "mimetype": "text/x-python",
   "name": "python",
   "nbconvert_exporter": "python",
   "pygments_lexer": "ipython3",
   "version": "3.10.13"
  }
 },
 "nbformat": 4,
 "nbformat_minor": 5
}
