{
 "cells": [
  {
   "cell_type": "code",
   "execution_count": 1,
   "id": "7b3fcd6f-b944-4121-8369-f8bf27802b93",
   "metadata": {},
   "outputs": [
    {
     "data": {
      "text/plain": [
       "'/dls_sw/e02/software/MIB_convert_widget_beta'"
      ]
     },
     "execution_count": 1,
     "metadata": {},
     "output_type": "execute_result"
    }
   ],
   "source": [
    "pwd"
   ]
  },
  {
   "cell_type": "code",
   "execution_count": 4,
   "id": "2b52b84d-56c9-4bc0-bfc0-604d5684b984",
   "metadata": {
    "editable": true,
    "slideshow": {
     "slide_type": ""
    },
    "tags": []
   },
   "outputs": [
    {
     "name": "stdout",
     "output_type": "stream",
     "text": [
      "*********************************************************************************\n",
      "Make sure that <Submit checkbox> is unchecked before changing any other variables\n",
      "*********************************************************************************\n"
     ]
    },
    {
     "data": {
      "application/vnd.jupyter.widget-view+json": {
       "model_id": "ad5bb36b846044bbb483893f79cd8e6b",
       "version_major": 2,
       "version_minor": 0
      },
      "text/plain": [
       "interactive(children=(Text(value='', description='Year:', style=TextStyle(description_width='initial')), Text(…"
      ]
     },
     "metadata": {},
     "output_type": "display_data"
    },
    {
     "data": {
      "application/vnd.jupyter.widget-view+json": {
       "model_id": "6c37bb5ef64147aebefd153a8f9be5ad",
       "version_major": 2,
       "version_minor": 0
      },
      "text/plain": [
       "interactive(children=(Checkbox(value=False, description='Show the path of each MIB file', style=CheckboxStyle(…"
      ]
     },
     "metadata": {},
     "output_type": "display_data"
    },
    {
     "data": {
      "application/vnd.jupyter.widget-view+json": {
       "model_id": "b4c9b3d5a4524262a437d8a5473c1826",
       "version_major": 2,
       "version_minor": 0
      },
      "text/plain": [
       "interactive(children=(Checkbox(value=False, description='No reshaping', style=CheckboxStyle(description_width=…"
      ]
     },
     "metadata": {},
     "output_type": "display_data"
    },
    {
     "data": {
      "application/vnd.jupyter.widget-view+json": {
       "model_id": "ab7226dc3c5e47b899e8037892665933",
       "version_major": 2,
       "version_minor": 0
      },
      "text/plain": [
       "interactive(children=(Checkbox(value=False, description='Submit a slurm job', style=CheckboxStyle(description_…"
      ]
     },
     "metadata": {},
     "output_type": "display_data"
    }
   ],
   "source": [
    "%matplotlib widget\n",
    "import sys\n",
    "sys.path.append('/dls_sw/e02/software/MIB_convert_widget_beta/scripts')\n",
    "from MIB_convert import *\n",
    "\n",
    "\"\"\"\n",
    "year:\n",
    "    year of the session, e.g., 202X\n",
    "session:\n",
    "    session referenc e.g., mgXXXXX-X\n",
    "All MIB files in 'Merlin' folder:\n",
    "    if checked and no subfolder name is specified, all MIB files in 'Merlin' folder will be converted\n",
    "subfolder:\n",
    "    subfolder name, it has a higher priority than the widget above\n",
    "Show the path of each MIB file:\n",
    "    if checked, the paths of the MIB files that will be converted are shown\n",
    "No reshaping:\n",
    "    if checked, the scan region will not be reshaped into 2D scan dimensions\n",
    "Use Fly-back:\n",
    "    if checked, the scan region will be completely recovered.\n",
    "Known_shape:\n",
    "    if checked, the scan region will be reshaped as you want (if possible)\n",
    "Scan_X:\n",
    "    x-axis dimension of the scan region for the 'Known_shape' option\n",
    "Scan_Y:\n",
    "    y-axis dimension of the scan region for the 'Known_shape' option\n",
    "ADF:\n",
    "    currently not available\n",
    "iBF:\n",
    "    if checked, the integrated bright-field image will be saved as a PNG file\n",
    "DPC:\n",
    "    currently not available\n",
    "Bin_nav:\n",
    "    rebin the data for the scan shape and save it as a HSPY file\n",
    "Bin_sig:\n",
    "    rebin the data for the diffraction shape and save it as a HSPY file\n",
    "Create slurm batch file:\n",
    "    if checked, the slurm batch file will be created in the save directory\n",
    "Create conversion info file:\n",
    "    if checked, the information file for the MIB conversion will be created in the save directory\n",
    "Create a ptychography subfolder:\n",
    "    if checked, the json file for the ptyrex reconstruction will be created in the save directory\n",
    "Enter config name (optional):\n",
    "    PtyREX recontruction name\n",
    "Enter template config path (optional):\n",
    "    PtyREX template json file path you want to use\n",
    "Select the cluster node (cs04r recommended):\n",
    "    select the cluster node to use. 'cs05r' is the GPU cluster node, so please do not use it unnecessarily.\n",
    "\"\"\"\n",
    "\n",
    "convert = convert_info_widget(only_ptyrex=False)"
   ]
  },
  {
   "cell_type": "code",
   "execution_count": null,
   "id": "b27fadb9-6150-4181-afcd-ab1b92eeb06f",
   "metadata": {
    "editable": true,
    "slideshow": {
     "slide_type": ""
    },
    "tags": []
   },
   "outputs": [],
   "source": [
    "\"\"\"\n",
    "This is only for generating the json files for previously converted MIB files.\n",
    "\"\"\"\n",
    "\n",
    "%matplotlib widget\n",
    "import sys\n",
    "sys.path.append('/dls_sw/e02/software/epsic_tools/epsic_tools/mib2hdfConvert/MIB_convert_widget/scripts')\n",
    "from MIB_convert import *\n",
    "\n",
    "\"\"\"\n",
    "year:\n",
    "    year of the session, e.g., 202X\n",
    "session:\n",
    "    session reference, e.g., mgXXXXX-X\n",
    "All MIB files in 'Merlin' folder:\n",
    "    if checked and no subfolder name is specified, all MIB files in 'Merlin' folder will be converted\n",
    "subfolder:\n",
    "    subfolder name, it has a higher priority than the widget above\n",
    "Show the path of each MIB file:\n",
    "    if checked, the paths of the MIB files that will be converted are shown\n",
    "Create slurm batch file:\n",
    "    if checked, the slurm batch file will be created in the save directory\n",
    "Create conversion info file:\n",
    "    if checked, the information file for the MIB conversion will be created in the save directory\n",
    "Create a ptychography subfolder:\n",
    "    if checked, the json file for the ptyrex reconstruction will be created in the save directory\n",
    "\"\"\"\n",
    "\n",
    "convert = convert_info_widget(only_ptyrex=True)"
   ]
  }
 ],
 "metadata": {
  "kernelspec": {
   "display_name": "Python 3.10 - EPSIC [DLS Conda]",
   "language": "python",
   "name": "conda-env-DLS_Conda-epsic3.10-kernel.json"
  },
  "language_info": {
   "codemirror_mode": {
    "name": "ipython",
    "version": 3
   },
   "file_extension": ".py",
   "mimetype": "text/x-python",
   "name": "python",
   "nbconvert_exporter": "python",
   "pygments_lexer": "ipython3",
   "version": "3.10.13"
  }
 },
 "nbformat": 4,
 "nbformat_minor": 5
}
